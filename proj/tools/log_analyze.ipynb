{
 "cells": [
  {
   "cell_type": "code",
   "execution_count": 15,
   "outputs": [],
   "source": [
    "import pickle\n",
    "from pathlib import Path\n",
    "from pprint import pprint\n",
    "from typing import Dict\n",
    "from collections import Counter\n",
    "pickle_dir = Path(\"../exp1610794294\")\n",
    "episode = 40"
   ],
   "metadata": {
    "collapsed": false,
    "pycharm": {
     "name": "#%%\n"
    }
   }
  },
  {
   "cell_type": "code",
   "execution_count": 8,
   "outputs": [],
   "source": [
    "with open(pickle_dir / \"logs-0001.pickle\",\"rb\") as f:\n",
    "    d1 = pickle.load(f)\n",
    "with open(pickle_dir / f\"logs-{episode:04d}.pickle\",\"rb\") as f:\n",
    "    d_ep = pickle.load(f)"
   ],
   "metadata": {
    "collapsed": false,
    "pycharm": {
     "name": "#%%\n"
    }
   }
  },
  {
   "cell_type": "code",
   "execution_count": 17,
   "outputs": [
    {
     "name": "stdout",
     "output_type": "stream",
     "text": [
      "(\"Counter(agent_actions_start)=Counter({'Gather': 488, '': 141, \"\n",
      " \"'ContinuousDoubleAuction.Buy_Stone': 122, \"\n",
      " \"'ContinuousDoubleAuction.Buy_Wood': 114, \"\n",
      " \"'ContinuousDoubleAuction.Sell_Wood': 78, \"\n",
      " \"'ContinuousDoubleAuction.Sell_Stone': 48, 'Build': 9}), \"\n",
      " \"Counter(agent_actions_end)=Counter({'Gather': 1000})\")\n"
     ]
    }
   ],
   "source": [
    "tested_agent = \"1\"\n",
    "def agent_actions(dense_logs:Dict, agent_id_str:str):\n",
    "    actions = [list(i[agent_id_str].keys())[0] if i[agent_id_str] else \"\"  for i in dense_logs[\"actions\"]]\n",
    "    return actions\n",
    "\n",
    "agent_actions_start = agent_actions(d1, tested_agent)\n",
    "agent_actions_end = agent_actions(d_ep, tested_agent)\n",
    "pprint(f\"{Counter(agent_actions_start)=}, {Counter(agent_actions_end)=}\")\n"
   ],
   "metadata": {
    "collapsed": false,
    "pycharm": {
     "name": "#%%\n"
    }
   }
  },
  {
   "cell_type": "code",
   "execution_count": 18,
   "outputs": [
    {
     "name": "stdout",
     "output_type": "stream",
     "text": [
      "['Gather', 'Gather', 'Gather', 'Gather', 'Gather', 'Gather', 'Gather', 'Gather', 'Gather', 'Gather', 'Gather', 'Gather', 'Gather', 'Gather', 'Gather', 'Gather', 'Gather', 'Gather', 'Gather', 'Gather', 'Gather', 'Gather', 'Gather', 'Gather', 'Gather', 'Gather', 'Gather', 'Gather', 'Gather', 'Gather', 'Gather', 'Gather', 'Gather', 'Gather', 'Gather', 'Gather', 'Gather', 'Gather', 'Gather', 'Gather', 'Gather', 'Gather', 'Gather', 'Gather', 'Gather', 'Gather', 'Gather', 'Gather', 'Gather', 'Gather', 'Gather', 'Gather', 'Gather', 'Gather', 'Gather', 'Gather', 'Gather', 'Gather', 'Gather', 'Gather', 'Gather', 'Gather', 'Gather', 'Gather', 'Gather', 'Gather', 'Gather', 'Gather', 'Gather', 'Gather', 'Gather', 'Gather', 'Gather', 'Gather', 'Gather', 'Gather', 'Gather', 'Gather', 'Gather', 'Gather', 'Gather', 'Gather', 'Gather', 'Gather', 'Gather', 'Gather', 'Gather', 'Gather', 'Gather', 'Gather', 'Gather', 'Gather', 'Gather', 'Gather', 'Gather', 'Gather', 'Gather', 'Gather', 'Gather', 'Gather', 'Gather', 'Gather', 'Gather', 'Gather', 'Gather', 'Gather', 'Gather', 'Gather', 'Gather', 'Gather', 'Gather', 'Gather', 'Gather', 'Gather', 'Gather', 'Gather', 'Gather', 'Gather', 'Gather', 'Gather', 'Gather', 'Gather', 'Gather', 'Gather', 'Gather', 'Gather', 'Gather', 'Gather', 'Gather', 'Gather', 'Gather', 'Gather', 'Gather', 'Gather', 'Gather', 'Gather', 'Gather', 'Gather', 'Gather', 'Gather', 'Gather', 'Gather', 'Gather', 'Gather', 'Gather', 'Gather', 'Gather', 'Gather', 'Gather', 'Gather', 'Gather', 'Gather', 'Gather', 'Gather', 'Gather', 'Gather', 'Gather', 'Gather', 'Gather', 'Gather', 'Gather', 'Gather', 'Gather', 'Gather', 'Gather', 'Gather', 'Gather', 'Gather', 'Gather', 'Gather', 'Gather', 'Gather', 'Gather', 'Gather', 'Gather', 'Gather', 'Gather', 'Gather', 'Gather', 'Gather', 'Gather', 'Gather', 'Gather', 'Gather', 'Gather', 'Gather', 'Gather', 'Gather', 'Gather', 'Gather', 'Gather', 'Gather', 'Gather', 'Gather', 'Gather', 'Gather', 'Gather', 'Gather', 'Gather', 'Gather', 'Gather', 'Gather', 'Gather', 'Gather', 'Gather', 'Gather', 'Gather', 'Gather', 'Gather', 'Gather', 'Gather', 'Gather', 'Gather', 'Gather', 'Gather', 'Gather', 'Gather', 'Gather', 'Gather', 'Gather', 'Gather', 'Gather', 'Gather', 'Gather', 'Gather', 'Gather', 'Gather', 'Gather', 'Gather', 'Gather', 'Gather', 'Gather', 'Gather', 'Gather', 'Gather', 'Gather', 'Gather', 'Gather', 'Gather', 'Gather', 'Gather', 'Gather', 'Gather', 'Gather', 'Gather', 'Gather', 'Gather', 'Gather', 'Gather', 'Gather', 'Gather', 'Gather', 'Gather', 'Gather', 'Gather', 'Gather', 'Gather', 'Gather', 'Gather', 'Gather', 'Gather', 'Gather', 'Gather', 'Gather', 'Gather', 'Gather', 'Gather', 'Gather', 'Gather', 'Gather', 'Gather', 'Gather', 'Gather', 'Gather', 'Gather', 'Gather', 'Gather', 'Gather', 'Gather', 'Gather', 'Gather', 'Gather', 'Gather', 'Gather', 'Gather', 'Gather', 'Gather', 'Gather', 'Gather', 'Gather', 'Gather', 'Gather', 'Gather', 'Gather', 'Gather', 'Gather', 'Gather', 'Gather', 'Gather', 'Gather', 'Gather', 'Gather', 'Gather', 'Gather', 'Gather', 'Gather', 'Gather', 'Gather', 'Gather', 'Gather', 'Gather', 'Gather', 'Gather', 'Gather', 'Gather', 'Gather', 'Gather', 'Gather', 'Gather', 'Gather', 'Gather', 'Gather', 'Gather', 'Gather', 'Gather', 'Gather', 'Gather', 'Gather', 'Gather', 'Gather', 'Gather', 'Gather', 'Gather', 'Gather', 'Gather', 'Gather', 'Gather', 'Gather', 'Gather', 'Gather', 'Gather', 'Gather', 'Gather', 'Gather', 'Gather', 'Gather', 'Gather', 'Gather', 'Gather', 'Gather', 'Gather', 'Gather', 'Gather', 'Gather', 'Gather', 'Gather', 'Gather', 'Gather', 'Gather', 'Gather', 'Gather', 'Gather', 'Gather', 'Gather', 'Gather', 'Gather', 'Gather', 'Gather', 'Gather', 'Gather', 'Gather', 'Gather', 'Gather', 'Gather', 'Gather', 'Gather', 'Gather', 'Gather', 'Gather', 'Gather', 'Gather', 'Gather', 'Gather', 'Gather', 'Gather', 'Gather', 'Gather', 'Gather', 'Gather', 'Gather', 'Gather', 'Gather', 'Gather', 'Gather', 'Gather', 'Gather', 'Gather', 'Gather', 'Gather', 'Gather', 'Gather', 'Gather', 'Gather', 'Gather', 'Gather', 'Gather', 'Gather', 'Gather', 'Gather', 'Gather', 'Gather', 'Gather', 'Gather', 'Gather', 'Gather', 'Gather', 'Gather', 'Gather', 'Gather', 'Gather', 'Gather', 'Gather', 'Gather', 'Gather', 'Gather', 'Gather', 'Gather', 'Gather', 'Gather', 'Gather', 'Gather', 'Gather', 'Gather', 'Gather', 'Gather', 'Gather', 'Gather', 'Gather', 'Gather', 'Gather', 'Gather', 'Gather', 'Gather', 'Gather', 'Gather', 'Gather', 'Gather', 'Gather', 'Gather', 'Gather', 'Gather', 'Gather', 'Gather', 'Gather', 'Gather', 'Gather', 'Gather', 'Gather', 'Gather', 'Gather', 'Gather', 'Gather', 'Gather', 'Gather', 'Gather', 'Gather', 'Gather', 'Gather', 'Gather', 'Gather', 'Gather', 'Gather', 'Gather', 'Gather', 'Gather', 'Gather', 'Gather', 'Gather', 'Gather', 'Gather', 'Gather', 'Gather', 'Gather', 'Gather', 'Gather', 'Gather', 'Gather', 'Gather', 'Gather', 'Gather', 'Gather', 'Gather', 'Gather', 'Gather', 'Gather', 'Gather', 'Gather', 'Gather', 'Gather', 'Gather', 'Gather', 'Gather', 'Gather', 'Gather', 'Gather', 'Gather', 'Gather', 'Gather', 'Gather', 'Gather', 'Gather', 'Gather', 'Gather', 'Gather', 'Gather', 'Gather', 'Gather', 'Gather', 'Gather', 'Gather', 'Gather', 'Gather', 'Gather', 'Gather', 'Gather', 'Gather', 'Gather', 'Gather', 'Gather', 'Gather', 'Gather', 'Gather', 'Gather', 'Gather', 'Gather', 'Gather', 'Gather', 'Gather', 'Gather', 'Gather', 'Gather', 'Gather', 'Gather', 'Gather', 'Gather', 'Gather', 'Gather', 'Gather', 'Gather', 'Gather', 'Gather', 'Gather', 'Gather', 'Gather', 'Gather', 'Gather', 'Gather', 'Gather', 'Gather', 'Gather', 'Gather', 'Gather', 'Gather', 'Gather', 'Gather', 'Gather', 'Gather', 'Gather', 'Gather', 'Gather', 'Gather', 'Gather', 'Gather', 'Gather', 'Gather', 'Gather', 'Gather', 'Gather', 'Gather', 'Gather', 'Gather', 'Gather', 'Gather', 'Gather', 'Gather', 'Gather', 'Gather', 'Gather', 'Gather', 'Gather', 'Gather', 'Gather', 'Gather', 'Gather', 'Gather', 'Gather', 'Gather', 'Gather', 'Gather', 'Gather', 'Gather', 'Gather', 'Gather', 'Gather', 'Gather', 'Gather', 'Gather', 'Gather', 'Gather', 'Gather', 'Gather', 'Gather', 'Gather', 'Gather', 'Gather', 'Gather', 'Gather', 'Gather', 'Gather', 'Gather', 'Gather', 'Gather', 'Gather', 'Gather', 'Gather', 'Gather', 'Gather', 'Gather', 'Gather', 'Gather', 'Gather', 'Gather', 'Gather', 'Gather', 'Gather', 'Gather', 'Gather', 'Gather', 'Gather', 'Gather', 'Gather', 'Gather', 'Gather', 'Gather', 'Gather', 'Gather', 'Gather', 'Gather', 'Gather', 'Gather', 'Gather', 'Gather', 'Gather', 'Gather', 'Gather', 'Gather', 'Gather', 'Gather', 'Gather', 'Gather', 'Gather', 'Gather', 'Gather', 'Gather', 'Gather', 'Gather', 'Gather', 'Gather', 'Gather', 'Gather', 'Gather', 'Gather', 'Gather', 'Gather', 'Gather', 'Gather', 'Gather', 'Gather', 'Gather', 'Gather', 'Gather', 'Gather', 'Gather', 'Gather', 'Gather', 'Gather', 'Gather', 'Gather', 'Gather', 'Gather', 'Gather', 'Gather', 'Gather', 'Gather', 'Gather', 'Gather', 'Gather', 'Gather', 'Gather', 'Gather', 'Gather', 'Gather', 'Gather', 'Gather', 'Gather', 'Gather', 'Gather', 'Gather', 'Gather', 'Gather', 'Gather', 'Gather', 'Gather', 'Gather', 'Gather', 'Gather', 'Gather', 'Gather', 'Gather', 'Gather', 'Gather', 'Gather', 'Gather', 'Gather', 'Gather', 'Gather', 'Gather', 'Gather', 'Gather', 'Gather', 'Gather', 'Gather', 'Gather', 'Gather', 'Gather', 'Gather', 'Gather', 'Gather', 'Gather', 'Gather', 'Gather', 'Gather', 'Gather', 'Gather', 'Gather', 'Gather', 'Gather', 'Gather', 'Gather', 'Gather', 'Gather', 'Gather', 'Gather', 'Gather', 'Gather', 'Gather', 'Gather', 'Gather', 'Gather', 'Gather', 'Gather', 'Gather', 'Gather', 'Gather', 'Gather', 'Gather', 'Gather', 'Gather', 'Gather', 'Gather', 'Gather', 'Gather', 'Gather', 'Gather', 'Gather', 'Gather', 'Gather', 'Gather', 'Gather', 'Gather', 'Gather', 'Gather', 'Gather', 'Gather', 'Gather', 'Gather', 'Gather', 'Gather', 'Gather', 'Gather', 'Gather', 'Gather', 'Gather', 'Gather', 'Gather', 'Gather', 'Gather', 'Gather', 'Gather', 'Gather', 'Gather', 'Gather', 'Gather', 'Gather', 'Gather', 'Gather', 'Gather', 'Gather', 'Gather', 'Gather', 'Gather', 'Gather', 'Gather', 'Gather', 'Gather', 'Gather', 'Gather', 'Gather', 'Gather', 'Gather', 'Gather', 'Gather', 'Gather', 'Gather', 'Gather', 'Gather', 'Gather', 'Gather', 'Gather', 'Gather', 'Gather', 'Gather', 'Gather', 'Gather', 'Gather', 'Gather', 'Gather', 'Gather', 'Gather', 'Gather', 'Gather', 'Gather', 'Gather', 'Gather', 'Gather', 'Gather', 'Gather', 'Gather', 'Gather', 'Gather', 'Gather', 'Gather', 'Gather', 'Gather', 'Gather', 'Gather', 'Gather', 'Gather', 'Gather', 'Gather', 'Gather', 'Gather', 'Gather', 'Gather', 'Gather', 'Gather', 'Gather', 'Gather', 'Gather', 'Gather', 'Gather', 'Gather', 'Gather', 'Gather', 'Gather', 'Gather', 'Gather', 'Gather', 'Gather', 'Gather', 'Gather', 'Gather', 'Gather', 'Gather', 'Gather', 'Gather', 'Gather', 'Gather', 'Gather', 'Gather', 'Gather', 'Gather', 'Gather', 'Gather', 'Gather', 'Gather', 'Gather', 'Gather', 'Gather', 'Gather', 'Gather', 'Gather', 'Gather', 'Gather', 'Gather', 'Gather', 'Gather', 'Gather', 'Gather', 'Gather', 'Gather', 'Gather', 'Gather', 'Gather', 'Gather', 'Gather', 'Gather', 'Gather', 'Gather', 'Gather', 'Gather', 'Gather', 'Gather', 'Gather', 'Gather', 'Gather', 'Gather', 'Gather', 'Gather', 'Gather', 'Gather', 'Gather', 'Gather', 'Gather', 'Gather', 'Gather', 'Gather', 'Gather', 'Gather', 'Gather', 'Gather', 'Gather', 'Gather', 'Gather', 'Gather', 'Gather', 'Gather', 'Gather', 'Gather', 'Gather', 'Gather', 'Gather', 'Gather', 'Gather', 'Gather', 'Gather', 'Gather', 'Gather', 'Gather', 'Gather', 'Gather', 'Gather', 'Gather', 'Gather', 'Gather', 'Gather', 'Gather', 'Gather', 'Gather', 'Gather', 'Gather', 'Gather', 'Gather', 'Gather', 'Gather', 'Gather', 'Gather', 'Gather', 'Gather', 'Gather', 'Gather', 'Gather', 'Gather', 'Gather', 'Gather', 'Gather', 'Gather', 'Gather', 'Gather', 'Gather', 'Gather', 'Gather', 'Gather', 'Gather', 'Gather', 'Gather', 'Gather', 'Gather', 'Gather', 'Gather']\n"
     ]
    }
   ],
   "source": [],
   "metadata": {
    "collapsed": false,
    "pycharm": {
     "name": "#%%"
    }
   }
  }
 ],
 "metadata": {
  "kernelspec": {
   "display_name": "Python 3",
   "language": "python",
   "name": "python3"
  },
  "language_info": {
   "codemirror_mode": {
    "name": "ipython",
    "version": 2
   },
   "file_extension": ".py",
   "mimetype": "text/x-python",
   "name": "python",
   "nbconvert_exporter": "python",
   "pygments_lexer": "ipython2",
   "version": "2.7.6"
  }
 },
 "nbformat": 4,
 "nbformat_minor": 0
}